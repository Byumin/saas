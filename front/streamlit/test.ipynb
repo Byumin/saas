{
 "cells": [
  {
   "cell_type": "code",
   "execution_count": 110,
   "id": "6972ee03",
   "metadata": {},
   "outputs": [
    {
     "name": "stdout",
     "output_type": "stream",
     "text": [
      "        test_id   test_name essential_info scale_code scale_name  \\\n",
      "0  GOLDEN_CO_SG  골든 성격유형 검사     {sex, age}        t02        분석적   \n",
      "1  GOLDEN_CO_SG  골든 성격유형 검사     {sex, age}        t01        논리적   \n",
      "2  GOLDEN_CO_SG  골든 성격유형 검사     {sex, age}          T         사고   \n",
      "3  GOLDEN_CO_SG  골든 성격유형 검사     {sex, age}        a02        친밀한   \n",
      "4  GOLDEN_CO_SG  골든 성격유형 검사     {sex, age}        a01      말이 많은   \n",
      "\n",
      "  parent_scale_id  level version  \n",
      "0               T      3   V 1.0  \n",
      "1               T      3   V 1.0  \n",
      "2           TOTAL      2   V 1.0  \n",
      "3               E      3   V 1.0  \n",
      "4               E      3   V 1.0  \n"
     ]
    }
   ],
   "source": [
    "import awswrangler as wr\n",
    "import pandas as pd\n",
    "\n",
    "# Athena 쿼리 실행 → Pandas DataFrame\n",
    "df = wr.athena.read_sql_query(\n",
    "    sql=\"\"\"\n",
    "        SELECT a.test_id, a.test_name, a.essential_info,\n",
    "               b.scale_code, b.scale_name, b.parent_scale_id, b.level, b.version\n",
    "        FROM test_info a\n",
    "        INNER JOIN scale_tree b\n",
    "          ON a.test_id = b.test_id\n",
    "         AND a.version = b.version\n",
    "        WHERE a.version = 'V 1.0'\n",
    "    \"\"\",\n",
    "    database=\"saas_proto\",\n",
    "    ctas_approach=False,                           # 기본은 CTAS, False로 두면 그냥 SELECT 실행\n",
    "    s3_output=\"s3://saas-inpsyt/athena-query-results/\"    # 쿼리 결과 저장될 S3 경로\n",
    ")\n",
    "\n",
    "print(df.head())"
   ]
  },
  {
   "cell_type": "code",
   "execution_count": 15,
   "id": "50d74f2c",
   "metadata": {},
   "outputs": [
    {
     "name": "stdout",
     "output_type": "stream",
     "text": [
      "Processing test_id: ('ADHD_CO_SG',)\n",
      "       test_id test_name essential_info scale_code scale_name parent_scale_id  \\\n",
      "12  ADHD_CO_SG    주의력 검사          {age}          A        주의력            <NA>   \n",
      "11  ADHD_CO_SG    주의력 검사          {age}          B       과잉행동            <NA>   \n",
      "\n",
      "    level version  \n",
      "12      1   V 1.0  \n",
      "11      1   V 1.0  \n",
      "Processing test_id: ('GOLDEN_CO_SG',)\n",
      "        test_id   test_name essential_info scale_code scale_name  \\\n",
      "6  GOLDEN_CO_SG  골든 성격유형 검사     {sex, age}      TOTAL         종합   \n",
      "5  GOLDEN_CO_SG  골든 성격유형 검사     {sex, age}          E         외향   \n",
      "2  GOLDEN_CO_SG  골든 성격유형 검사     {sex, age}          T         사고   \n",
      "4  GOLDEN_CO_SG  골든 성격유형 검사     {sex, age}        a01      말이 많은   \n",
      "3  GOLDEN_CO_SG  골든 성격유형 검사     {sex, age}        a02        친밀한   \n",
      "1  GOLDEN_CO_SG  골든 성격유형 검사     {sex, age}        t01        논리적   \n",
      "0  GOLDEN_CO_SG  골든 성격유형 검사     {sex, age}        t02        분석적   \n",
      "\n",
      "  parent_scale_id  level version  \n",
      "6            <NA>      1   V 1.0  \n",
      "5           TOTAL      2   V 1.0  \n",
      "2           TOTAL      2   V 1.0  \n",
      "4               E      3   V 1.0  \n",
      "3               E      3   V 1.0  \n",
      "1               T      3   V 1.0  \n",
      "0               T      3   V 1.0  \n",
      "Processing test_id: ('IESS_CO_SG',)\n",
      "       test_id   test_name         essential_info scale_code scale_name  \\\n",
      "15  IESS_CO_SG  통합 스트레스 검사  {age, position, role}          A       비관주의   \n",
      "14  IESS_CO_SG  통합 스트레스 검사  {age, position, role}          B       수면문제   \n",
      "13  IESS_CO_SG  통합 스트레스 검사  {age, position, role}          C         우울   \n",
      "\n",
      "   parent_scale_id  level version  \n",
      "15            <NA>      1   V 1.0  \n",
      "14            <NA>      1   V 1.0  \n",
      "13            <NA>      1   V 1.0  \n",
      "Processing test_id: ('OHSS_CO_SG',)\n",
      "       test_id  test_name              essential_info scale_code scale_name  \\\n",
      "10  OHSS_CO_SG  직무스트레스 검사  {sex, age, position, role}      TOTAL         종합   \n",
      "9   OHSS_CO_SG  직무스트레스 검사  {sex, age, position, role}          A       스트레스   \n",
      "8   OHSS_CO_SG  직무스트레스 검사  {sex, age, position, role}        A01       직무부하   \n",
      "7   OHSS_CO_SG  직무스트레스 검사  {sex, age, position, role}        A02       업무갈등   \n",
      "\n",
      "   parent_scale_id  level version  \n",
      "10            <NA>      1   V 1.0  \n",
      "9            TOTAL      2   V 1.0  \n",
      "8                A      3   V 1.0  \n",
      "7                A      3   V 1.0  \n"
     ]
    }
   ],
   "source": [
    "grouped_testid_df = df.groupby(['test_id'])\n",
    "tree_dict = {}\n",
    "\n",
    "for test_id, group in grouped_testid_df:\n",
    "    print(f\"Processing test_id: {test_id}\")\n",
    "    tree_dict[test_id] = {} # 검사 명 딕셔너리\n",
    "    tree_dict[test_id] = {'test_name': group['test_name'].iloc[0], 'essential_info': group['essential_info'].iloc[0], 'version': group['version'].iloc[0], 'scale_tree': {}}\n",
    "    group = group.sort_values(by=['level', 'scale_code']) # level, scale_code 기준 정렬\n",
    "    print(group)\n",
    "    for idx, row in group.iterrows(): # 인덱스 순서대로 하나씩 행 순환\n",
    "        # level 중 제일 낮은 행 선택 -> 최상위 척도 (부모)\n",
    "        if row['level'] == group['level'].min() and row['version'] == tree_dict[test_id]['version']:\n",
    "            tree_dict[test_id][row['scale_code']] = {'scale_code': row['scale_code'], 'scale_name': row['scale_name'], 'children': {}}\n",
    "        elif row['level'] > group['level'].min() and row['level'] < group['level'].max() and row['version'] == tree_dict[test_id]['version'] and row['parent_scale_id'] == tree_dict[test_id][row['parent_scale_id']]['scale_code']:\n",
    "            tree_dict[test_id][row['parent_scale_id']]['children'][row['scale_code']] = {'scale_code': row['scale_code'], 'scale_name': row['scale_name'], 'children': {}}\n",
    "        elif row['level'] == group['level'].max() and row['version'] == tree_dict[test_id]['version'] and row['parent_scale_id'] == tree_dict[test_id][row['parent_scale_id']]['scale_code']:\n",
    "\n",
    "#! 이렇게 하니까 조건문이 레벨별로 늘어나네... "
   ]
  },
  {
   "cell_type": "code",
   "execution_count": 111,
   "id": "b55b2c6c",
   "metadata": {},
   "outputs": [],
   "source": [
    "# 재귀 헬퍼 함수\n",
    "def find_node(tree, parent_code):\n",
    "    \"\"\"트리(dict) 안에서 parent_code에 해당하는 노드를 찾아 반환\"\"\"\n",
    "    if parent_code in tree:  # 현재 depth에서 찾은 경우\n",
    "        return tree[parent_code]\n",
    "    \n",
    "    # children 재귀 탐색\n",
    "    for node in tree.values():\n",
    "        if \"children\" in node:\n",
    "            found = find_node(node[\"children\"], parent_code)\n",
    "            if found:\n",
    "                return found\n",
    "    return None"
   ]
  },
  {
   "cell_type": "code",
   "execution_count": null,
   "id": "c37f6a48",
   "metadata": {},
   "outputs": [],
   "source": [
    "# 재귀 헬퍼 함수 (디버깅용)\n",
    "def find_node(tree, parent_code, depth=0):\n",
    "    indent = \"  \" * depth  # 보기 좋게 들여쓰기\n",
    "    print(f\"{indent}find_node 호출: parent_code={parent_code}, 현재 keys={list(tree.keys())}\")\n",
    "    \n",
    "    if parent_code in tree:\n",
    "        print(f\"{indent}👉 현재 depth에서 {parent_code} 발견! 반환\")\n",
    "        return tree[parent_code]\n",
    "    \n",
    "    for key, node in tree.items():\n",
    "        if \"children\" in node:\n",
    "            print(f\"{indent}{key}의 children 탐색 진입\")\n",
    "            found = find_node(node[\"children\"], parent_code, depth+1)\n",
    "            if found:\n",
    "                return found\n",
    "    \n",
    "    print(f\"{indent}❌ {parent_code} 여기서는 못 찾음\")\n",
    "    return None"
   ]
  },
  {
   "cell_type": "code",
   "execution_count": 116,
   "id": "5b12fc97",
   "metadata": {},
   "outputs": [
    {
     "name": "stdout",
     "output_type": "stream",
     "text": [
      "Processing test_id: ADHD_CO_SG\n",
      "       test_id test_name essential_info scale_code scale_name parent_scale_id  \\\n",
      "12  ADHD_CO_SG    주의력 검사          {age}          A        주의력            <NA>   \n",
      "11  ADHD_CO_SG    주의력 검사          {age}          B       과잉행동            <NA>   \n",
      "\n",
      "    level version  \n",
      "12      1   V 1.0  \n",
      "11      1   V 1.0  \n",
      "Processing test_id: GOLDEN_CO_SG\n",
      "        test_id   test_name essential_info scale_code scale_name  \\\n",
      "6  GOLDEN_CO_SG  골든 성격유형 검사     {sex, age}      TOTAL         종합   \n",
      "5  GOLDEN_CO_SG  골든 성격유형 검사     {sex, age}          E         외향   \n",
      "2  GOLDEN_CO_SG  골든 성격유형 검사     {sex, age}          T         사고   \n",
      "4  GOLDEN_CO_SG  골든 성격유형 검사     {sex, age}        a01      말이 많은   \n",
      "3  GOLDEN_CO_SG  골든 성격유형 검사     {sex, age}        a02        친밀한   \n",
      "1  GOLDEN_CO_SG  골든 성격유형 검사     {sex, age}        t01        논리적   \n",
      "0  GOLDEN_CO_SG  골든 성격유형 검사     {sex, age}        t02        분석적   \n",
      "\n",
      "  parent_scale_id  level version  \n",
      "6            <NA>      1   V 1.0  \n",
      "5           TOTAL      2   V 1.0  \n",
      "2           TOTAL      2   V 1.0  \n",
      "4               E      3   V 1.0  \n",
      "3               E      3   V 1.0  \n",
      "1               T      3   V 1.0  \n",
      "0               T      3   V 1.0  \n",
      "Processing test_id: IESS_CO_SG\n",
      "       test_id   test_name         essential_info scale_code scale_name  \\\n",
      "15  IESS_CO_SG  통합 스트레스 검사  {age, position, role}          A       비관주의   \n",
      "14  IESS_CO_SG  통합 스트레스 검사  {age, position, role}          B       수면문제   \n",
      "13  IESS_CO_SG  통합 스트레스 검사  {age, position, role}          C         우울   \n",
      "\n",
      "   parent_scale_id  level version  \n",
      "15            <NA>      1   V 1.0  \n",
      "14            <NA>      1   V 1.0  \n",
      "13            <NA>      1   V 1.0  \n",
      "Processing test_id: OHSS_CO_SG\n",
      "       test_id  test_name              essential_info scale_code scale_name  \\\n",
      "10  OHSS_CO_SG  직무스트레스 검사  {sex, age, position, role}      TOTAL         종합   \n",
      "9   OHSS_CO_SG  직무스트레스 검사  {sex, age, position, role}          A       스트레스   \n",
      "8   OHSS_CO_SG  직무스트레스 검사  {sex, age, position, role}        A01       직무부하   \n",
      "7   OHSS_CO_SG  직무스트레스 검사  {sex, age, position, role}        A02       업무갈등   \n",
      "\n",
      "   parent_scale_id  level version  \n",
      "10            <NA>      1   V 1.0  \n",
      "9            TOTAL      2   V 1.0  \n",
      "8                A      3   V 1.0  \n",
      "7                A      3   V 1.0  \n"
     ]
    }
   ],
   "source": [
    "grouped_testid_df = df.groupby('test_id')\n",
    "tree_dict = {}\n",
    "\n",
    "for test_id, group in grouped_testid_df:\n",
    "    print(f\"Processing test_id: {test_id}\")\n",
    "    tree_dict[test_id] = {\n",
    "        'test_name': group['test_name'].iloc[0],\n",
    "        'essential_info': group['essential_info'].iloc[0],\n",
    "        'version': group['version'].iloc[0],\n",
    "        'scale_tree': {}\n",
    "    }\n",
    "\n",
    "    # level, scale_code 기준 정렬\n",
    "    group = group.sort_values(by=['level', 'scale_code'])\n",
    "    print(group)\n",
    "    max_level = group['level'].max()\n",
    "    min_level = group['level'].min()\n",
    "\n",
    "    for idx, row in group.iterrows():\n",
    "        node = {\n",
    "            \"scale_name\": row['scale_name'],\n",
    "            \"children\": {}\n",
    "        }\n",
    "\n",
    "        if pd.isna(row['parent_scale_id']):  # 최상위 척도\n",
    "            tree_dict[test_id]['scale_tree'][row['scale_code']] = node\n",
    "        else:\n",
    "            # parent 위치 찾아서 children에 추가\n",
    "            parent_node = find_node(tree_dict[test_id]['scale_tree'], row['parent_scale_id'])\n",
    "            if parent_node:\n",
    "                parent_node['children'][row['scale_code']] = node"
   ]
  },
  {
   "cell_type": "code",
   "execution_count": 117,
   "id": "cccd2c39",
   "metadata": {},
   "outputs": [
    {
     "data": {
      "text/plain": [
       "{'ADHD_CO_SG': {'test_name': '주의력 검사',\n",
       "  'essential_info': '{age}',\n",
       "  'version': 'V 1.0',\n",
       "  'scale_tree': {'A': {'scale_name': '주의력', 'children': {}},\n",
       "   'B': {'scale_name': '과잉행동', 'children': {}}}},\n",
       " 'GOLDEN_CO_SG': {'test_name': '골든 성격유형 검사',\n",
       "  'essential_info': '{sex, age}',\n",
       "  'version': 'V 1.0',\n",
       "  'scale_tree': {'TOTAL': {'scale_name': '종합',\n",
       "    'children': {'E': {'scale_name': '외향',\n",
       "      'children': {'a01': {'scale_name': '말이 많은', 'children': {}},\n",
       "       'a02': {'scale_name': '친밀한', 'children': {}}}},\n",
       "     'T': {'scale_name': '사고',\n",
       "      'children': {'t01': {'scale_name': '논리적', 'children': {}},\n",
       "       't02': {'scale_name': '분석적', 'children': {}}}}}}}},\n",
       " 'IESS_CO_SG': {'test_name': '통합 스트레스 검사',\n",
       "  'essential_info': '{age, position, role}',\n",
       "  'version': 'V 1.0',\n",
       "  'scale_tree': {'A': {'scale_name': '비관주의', 'children': {}},\n",
       "   'B': {'scale_name': '수면문제', 'children': {}},\n",
       "   'C': {'scale_name': '우울', 'children': {}}}},\n",
       " 'OHSS_CO_SG': {'test_name': '직무스트레스 검사',\n",
       "  'essential_info': '{sex, age, position, role}',\n",
       "  'version': 'V 1.0',\n",
       "  'scale_tree': {'TOTAL': {'scale_name': '종합',\n",
       "    'children': {'A': {'scale_name': '스트레스',\n",
       "      'children': {'A01': {'scale_name': '직무부하', 'children': {}},\n",
       "       'A02': {'scale_name': '업무갈등', 'children': {}}}}}}}}}"
      ]
     },
     "execution_count": 117,
     "metadata": {},
     "output_type": "execute_result"
    }
   ],
   "source": [
    "tree_dict"
   ]
  },
  {
   "cell_type": "code",
   "execution_count": 56,
   "id": "454f220d",
   "metadata": {},
   "outputs": [],
   "source": [
    "test_dict = {}\n",
    "test_dict['GOLDEN_CO_SG'] = {\n",
    "    'test_name': '골든 성격유형 검사',\n",
    "    'essential_info': '{sex, age}',\n",
    "    'version': 'V 1.0',\n",
    "    'scale_tree': {}\n",
    "}"
   ]
  },
  {
   "cell_type": "code",
   "execution_count": 58,
   "id": "1726fff6",
   "metadata": {},
   "outputs": [
    {
     "data": {
      "text/plain": [
       "{'GOLDEN_CO_SG': {'test_name': '골든 성격유형 검사',\n",
       "  'essential_info': '{sex, age}',\n",
       "  'version': 'V 1.0',\n",
       "  'scale_tree': {}}}"
      ]
     },
     "execution_count": 58,
     "metadata": {},
     "output_type": "execute_result"
    }
   ],
   "source": [
    "test_dict"
   ]
  },
  {
   "cell_type": "code",
   "execution_count": 51,
   "id": "778b9a04",
   "metadata": {},
   "outputs": [
    {
     "name": "stderr",
     "output_type": "stream",
     "text": [
      "/var/folders/bq/z2chppb96j70s_2s04l9nlvc0000gn/T/ipykernel_11890/1565822685.py:1: FutureWarning: When grouping with a length-1 list-like, you will need to pass a length-1 tuple to get_group in a future version of pandas. Pass `(name,)` instead of `name` to silence this warning.\n",
      "  golden_df = grouped_testid_df.get_group('GOLDEN_CO_SG')\n"
     ]
    },
    {
     "data": {
      "text/html": [
       "<div>\n",
       "<style scoped>\n",
       "    .dataframe tbody tr th:only-of-type {\n",
       "        vertical-align: middle;\n",
       "    }\n",
       "\n",
       "    .dataframe tbody tr th {\n",
       "        vertical-align: top;\n",
       "    }\n",
       "\n",
       "    .dataframe thead th {\n",
       "        text-align: right;\n",
       "    }\n",
       "</style>\n",
       "<table border=\"1\" class=\"dataframe\">\n",
       "  <thead>\n",
       "    <tr style=\"text-align: right;\">\n",
       "      <th></th>\n",
       "      <th>test_id</th>\n",
       "      <th>test_name</th>\n",
       "      <th>essential_info</th>\n",
       "      <th>scale_code</th>\n",
       "      <th>scale_name</th>\n",
       "      <th>parent_scale_id</th>\n",
       "      <th>level</th>\n",
       "      <th>version</th>\n",
       "    </tr>\n",
       "  </thead>\n",
       "  <tbody>\n",
       "    <tr>\n",
       "      <th>6</th>\n",
       "      <td>GOLDEN_CO_SG</td>\n",
       "      <td>골든 성격유형 검사</td>\n",
       "      <td>{sex, age}</td>\n",
       "      <td>TOTAL</td>\n",
       "      <td>종합</td>\n",
       "      <td>&lt;NA&gt;</td>\n",
       "      <td>1</td>\n",
       "      <td>V 1.0</td>\n",
       "    </tr>\n",
       "    <tr>\n",
       "      <th>5</th>\n",
       "      <td>GOLDEN_CO_SG</td>\n",
       "      <td>골든 성격유형 검사</td>\n",
       "      <td>{sex, age}</td>\n",
       "      <td>E</td>\n",
       "      <td>외향</td>\n",
       "      <td>TOTAL</td>\n",
       "      <td>2</td>\n",
       "      <td>V 1.0</td>\n",
       "    </tr>\n",
       "    <tr>\n",
       "      <th>2</th>\n",
       "      <td>GOLDEN_CO_SG</td>\n",
       "      <td>골든 성격유형 검사</td>\n",
       "      <td>{sex, age}</td>\n",
       "      <td>T</td>\n",
       "      <td>사고</td>\n",
       "      <td>TOTAL</td>\n",
       "      <td>2</td>\n",
       "      <td>V 1.0</td>\n",
       "    </tr>\n",
       "    <tr>\n",
       "      <th>4</th>\n",
       "      <td>GOLDEN_CO_SG</td>\n",
       "      <td>골든 성격유형 검사</td>\n",
       "      <td>{sex, age}</td>\n",
       "      <td>a01</td>\n",
       "      <td>말이 많은</td>\n",
       "      <td>E</td>\n",
       "      <td>3</td>\n",
       "      <td>V 1.0</td>\n",
       "    </tr>\n",
       "    <tr>\n",
       "      <th>3</th>\n",
       "      <td>GOLDEN_CO_SG</td>\n",
       "      <td>골든 성격유형 검사</td>\n",
       "      <td>{sex, age}</td>\n",
       "      <td>a02</td>\n",
       "      <td>친밀한</td>\n",
       "      <td>E</td>\n",
       "      <td>3</td>\n",
       "      <td>V 1.0</td>\n",
       "    </tr>\n",
       "    <tr>\n",
       "      <th>1</th>\n",
       "      <td>GOLDEN_CO_SG</td>\n",
       "      <td>골든 성격유형 검사</td>\n",
       "      <td>{sex, age}</td>\n",
       "      <td>t01</td>\n",
       "      <td>논리적</td>\n",
       "      <td>T</td>\n",
       "      <td>3</td>\n",
       "      <td>V 1.0</td>\n",
       "    </tr>\n",
       "    <tr>\n",
       "      <th>0</th>\n",
       "      <td>GOLDEN_CO_SG</td>\n",
       "      <td>골든 성격유형 검사</td>\n",
       "      <td>{sex, age}</td>\n",
       "      <td>t02</td>\n",
       "      <td>분석적</td>\n",
       "      <td>T</td>\n",
       "      <td>3</td>\n",
       "      <td>V 1.0</td>\n",
       "    </tr>\n",
       "  </tbody>\n",
       "</table>\n",
       "</div>"
      ],
      "text/plain": [
       "        test_id   test_name essential_info scale_code scale_name  \\\n",
       "6  GOLDEN_CO_SG  골든 성격유형 검사     {sex, age}      TOTAL         종합   \n",
       "5  GOLDEN_CO_SG  골든 성격유형 검사     {sex, age}          E         외향   \n",
       "2  GOLDEN_CO_SG  골든 성격유형 검사     {sex, age}          T         사고   \n",
       "4  GOLDEN_CO_SG  골든 성격유형 검사     {sex, age}        a01      말이 많은   \n",
       "3  GOLDEN_CO_SG  골든 성격유형 검사     {sex, age}        a02        친밀한   \n",
       "1  GOLDEN_CO_SG  골든 성격유형 검사     {sex, age}        t01        논리적   \n",
       "0  GOLDEN_CO_SG  골든 성격유형 검사     {sex, age}        t02        분석적   \n",
       "\n",
       "  parent_scale_id  level version  \n",
       "6            <NA>      1   V 1.0  \n",
       "5           TOTAL      2   V 1.0  \n",
       "2           TOTAL      2   V 1.0  \n",
       "4               E      3   V 1.0  \n",
       "3               E      3   V 1.0  \n",
       "1               T      3   V 1.0  \n",
       "0               T      3   V 1.0  "
      ]
     },
     "execution_count": 51,
     "metadata": {},
     "output_type": "execute_result"
    }
   ],
   "source": [
    "golden_df = grouped_testid_df.get_group('GOLDEN_CO_SG')\n",
    "golden_df = golden_df.sort_values(by=['level', 'scale_code'], ascending=True)\n",
    "golden_df"
   ]
  },
  {
   "cell_type": "code",
   "execution_count": 54,
   "id": "b0c33ff7",
   "metadata": {},
   "outputs": [
    {
     "data": {
      "text/plain": [
       "test_id            GOLDEN_CO_SG\n",
       "test_name            골든 성격유형 검사\n",
       "essential_info       {sex, age}\n",
       "scale_code                TOTAL\n",
       "scale_name                   종합\n",
       "parent_scale_id            <NA>\n",
       "level                         1\n",
       "version                   V 1.0\n",
       "Name: 6, dtype: object"
      ]
     },
     "execution_count": 54,
     "metadata": {},
     "output_type": "execute_result"
    }
   ],
   "source": [
    "golden_df_row_1 = golden_df.iloc[0]\n",
    "golden_df_row_1"
   ]
  },
  {
   "cell_type": "code",
   "execution_count": 60,
   "id": "bffd6595",
   "metadata": {},
   "outputs": [
    {
     "name": "stdout",
     "output_type": "stream",
     "text": [
      "{'scale_name': '종합', 'children': {}}\n"
     ]
    }
   ],
   "source": [
    "node = {\n",
    "    \"scale_name\": golden_df_row_1['scale_name'],\n",
    "    \"children\": {}\n",
    "}\n",
    "print(node)"
   ]
  },
  {
   "cell_type": "code",
   "execution_count": 66,
   "id": "94540e34",
   "metadata": {},
   "outputs": [
    {
     "name": "stdout",
     "output_type": "stream",
     "text": [
      "{'GOLDEN_CO_SG': {'test_name': '골든 성격유형 검사', 'essential_info': '{sex, age}', 'version': 'V 1.0', 'scale_tree': {'TOTAL': {'scale_name': '종합', 'children': {}}}}}\n"
     ]
    }
   ],
   "source": [
    "if pd.isna(golden_df_row_1['parent_scale_id']):  # 최상위 척도\n",
    "    test_dict['GOLDEN_CO_SG']['scale_tree'][golden_df_row_1['scale_code']] = node\n",
    "print(test_dict)"
   ]
  },
  {
   "cell_type": "code",
   "execution_count": 67,
   "id": "518410b6",
   "metadata": {},
   "outputs": [
    {
     "data": {
      "text/plain": [
       "test_id            GOLDEN_CO_SG\n",
       "test_name            골든 성격유형 검사\n",
       "essential_info       {sex, age}\n",
       "scale_code                    E\n",
       "scale_name                   외향\n",
       "parent_scale_id           TOTAL\n",
       "level                         2\n",
       "version                   V 1.0\n",
       "Name: 5, dtype: object"
      ]
     },
     "execution_count": 67,
     "metadata": {},
     "output_type": "execute_result"
    }
   ],
   "source": [
    "golden_df_row_2 = golden_df.iloc[1]\n",
    "golden_df_row_2"
   ]
  },
  {
   "cell_type": "code",
   "execution_count": 73,
   "id": "861fa22f",
   "metadata": {},
   "outputs": [],
   "source": [
    "node = {\n",
    "    \"scale_name\": golden_df_row_2['scale_name'],\n",
    "    \"children\": {}\n",
    "}"
   ]
  },
  {
   "cell_type": "code",
   "execution_count": 69,
   "id": "05b012f4",
   "metadata": {},
   "outputs": [
    {
     "name": "stdout",
     "output_type": "stream",
     "text": [
      "{'GOLDEN_CO_SG': {'test_name': '골든 성격유형 검사', 'essential_info': '{sex, age}', 'version': 'V 1.0', 'scale_tree': {'TOTAL': {'scale_name': '종합', 'children': {}}}}}\n",
      "{'TOTAL': {'scale_name': '종합', 'children': {}}}\n"
     ]
    }
   ],
   "source": [
    "if pd.isna(golden_df_row_2['parent_scale_id']):  # 최상위 척도\n",
    "    test_dict['GOLDEN_CO_SG']['scale_tree'][golden_df_row_2['scale_code']] = node\n",
    "print(test_dict)\n",
    "print(test_dict['GOLDEN_CO_SG']['scale_tree'])"
   ]
  },
  {
   "cell_type": "code",
   "execution_count": 72,
   "id": "74257f7c",
   "metadata": {},
   "outputs": [
    {
     "name": "stdout",
     "output_type": "stream",
     "text": [
      "현재 depth에서 찾음\n",
      "{'scale_name': '종합', 'children': {}}\n"
     ]
    }
   ],
   "source": [
    "parent_node = find_node(test_dict['GOLDEN_CO_SG']['scale_tree'], golden_df_row_2['parent_scale_id'])\n",
    "print(parent_node)"
   ]
  },
  {
   "cell_type": "code",
   "execution_count": 74,
   "id": "ad7d1fdb",
   "metadata": {},
   "outputs": [
    {
     "name": "stdout",
     "output_type": "stream",
     "text": [
      "{'GOLDEN_CO_SG': {'test_name': '골든 성격유형 검사', 'essential_info': '{sex, age}', 'version': 'V 1.0', 'scale_tree': {'TOTAL': {'scale_name': '종합', 'children': {'E': {'scale_name': '외향', 'children': {}}}}}}}\n"
     ]
    }
   ],
   "source": [
    "parent_node['children'][golden_df_row_2['scale_code']] = node\n",
    "print(test_dict)"
   ]
  },
  {
   "cell_type": "code",
   "execution_count": 75,
   "id": "fc174063",
   "metadata": {},
   "outputs": [
    {
     "data": {
      "text/plain": [
       "test_id            GOLDEN_CO_SG\n",
       "test_name            골든 성격유형 검사\n",
       "essential_info       {sex, age}\n",
       "scale_code                    T\n",
       "scale_name                   사고\n",
       "parent_scale_id           TOTAL\n",
       "level                         2\n",
       "version                   V 1.0\n",
       "Name: 2, dtype: object"
      ]
     },
     "execution_count": 75,
     "metadata": {},
     "output_type": "execute_result"
    }
   ],
   "source": [
    "golden_df_row_3 = golden_df.iloc[2]\n",
    "golden_df_row_3"
   ]
  },
  {
   "cell_type": "code",
   "execution_count": 76,
   "id": "515e5dfe",
   "metadata": {},
   "outputs": [],
   "source": [
    "node = {\n",
    "    \"scale_name\": golden_df_row_3['scale_name'],\n",
    "    \"children\": {}\n",
    "}"
   ]
  },
  {
   "cell_type": "code",
   "execution_count": 77,
   "id": "a3f73d41",
   "metadata": {},
   "outputs": [
    {
     "data": {
      "text/plain": [
       "{'TOTAL': {'scale_name': '종합',\n",
       "  'children': {'E': {'scale_name': '외향', 'children': {}}}}}"
      ]
     },
     "execution_count": 77,
     "metadata": {},
     "output_type": "execute_result"
    }
   ],
   "source": [
    "test_dict['GOLDEN_CO_SG']['scale_tree']"
   ]
  },
  {
   "cell_type": "code",
   "execution_count": 78,
   "id": "7e012365",
   "metadata": {},
   "outputs": [
    {
     "name": "stdout",
     "output_type": "stream",
     "text": [
      "현재 depth에서 찾음\n",
      "{'scale_name': '종합', 'children': {'E': {'scale_name': '외향', 'children': {}}}}\n"
     ]
    }
   ],
   "source": [
    "parent_node = find_node(test_dict['GOLDEN_CO_SG']['scale_tree'], golden_df_row_3['parent_scale_id'])\n",
    "print(parent_node)"
   ]
  },
  {
   "cell_type": "code",
   "execution_count": 79,
   "id": "17776ff3",
   "metadata": {},
   "outputs": [
    {
     "name": "stdout",
     "output_type": "stream",
     "text": [
      "{'GOLDEN_CO_SG': {'test_name': '골든 성격유형 검사', 'essential_info': '{sex, age}', 'version': 'V 1.0', 'scale_tree': {'TOTAL': {'scale_name': '종합', 'children': {'E': {'scale_name': '외향', 'children': {}}, 'T': {'scale_name': '사고', 'children': {}}}}}}}\n"
     ]
    }
   ],
   "source": [
    "parent_node['children'][golden_df_row_3['scale_code']] = node\n",
    "print(test_dict)"
   ]
  },
  {
   "cell_type": "code",
   "execution_count": 87,
   "id": "b7b888a9",
   "metadata": {},
   "outputs": [
    {
     "name": "stdout",
     "output_type": "stream",
     "text": [
      "test_id            GOLDEN_CO_SG\n",
      "test_name            골든 성격유형 검사\n",
      "essential_info       {sex, age}\n",
      "scale_code                  a01\n",
      "scale_name                말이 많은\n",
      "parent_scale_id               E\n",
      "level                         3\n",
      "version                   V 1.0\n",
      "Name: 4, dtype: object\n",
      "{'scale_name': '말이 많은', 'children': {}}\n"
     ]
    }
   ],
   "source": [
    "golden_df_row_4 = golden_df.iloc[3]\n",
    "print(golden_df_row_4)\n",
    "node = {\n",
    "    \"scale_name\": golden_df_row_4['scale_name'],\n",
    "    \"children\": {}\n",
    "}\n",
    "print(node)"
   ]
  },
  {
   "cell_type": "code",
   "execution_count": 83,
   "id": "6f9ba213",
   "metadata": {},
   "outputs": [
    {
     "data": {
      "text/plain": [
       "{'TOTAL': {'scale_name': '종합',\n",
       "  'children': {'E': {'scale_name': '외향', 'children': {}},\n",
       "   'T': {'scale_name': '사고', 'children': {}}}}}"
      ]
     },
     "execution_count": 83,
     "metadata": {},
     "output_type": "execute_result"
    }
   ],
   "source": [
    "test_dict['GOLDEN_CO_SG']['scale_tree']"
   ]
  },
  {
   "cell_type": "code",
   "execution_count": 88,
   "id": "dff6ef14",
   "metadata": {},
   "outputs": [
    {
     "data": {
      "text/plain": [
       "dict_values([{'scale_name': '종합', 'children': {'E': {'scale_name': '외향', 'children': {}}, 'T': {'scale_name': '사고', 'children': {}}}}])"
      ]
     },
     "execution_count": 88,
     "metadata": {},
     "output_type": "execute_result"
    }
   ],
   "source": [
    "test_dict['GOLDEN_CO_SG']['scale_tree'].values()"
   ]
  },
  {
   "cell_type": "code",
   "execution_count": 95,
   "id": "6908883d",
   "metadata": {},
   "outputs": [
    {
     "name": "stdout",
     "output_type": "stream",
     "text": [
      "{'scale_name': '종합', 'children': {'E': {'scale_name': '외향', 'children': {}}, 'T': {'scale_name': '사고', 'children': {}}}}\n"
     ]
    }
   ],
   "source": [
    "for nodo in test_dict['GOLDEN_CO_SG']['scale_tree'].values():\n",
    "    print(nodo)\n"
   ]
  },
  {
   "cell_type": "code",
   "execution_count": 94,
   "id": "366f471a",
   "metadata": {},
   "outputs": [
    {
     "data": {
      "text/plain": [
       "True"
      ]
     },
     "execution_count": 94,
     "metadata": {},
     "output_type": "execute_result"
    }
   ],
   "source": [
    "\"children\" in nodo"
   ]
  },
  {
   "cell_type": "code",
   "execution_count": 99,
   "id": "84462007",
   "metadata": {},
   "outputs": [
    {
     "data": {
      "text/plain": [
       "{'E': {'scale_name': '외향', 'children': {}},\n",
       " 'T': {'scale_name': '사고', 'children': {}}}"
      ]
     },
     "execution_count": 99,
     "metadata": {},
     "output_type": "execute_result"
    }
   ],
   "source": [
    "nodo[\"children\"]"
   ]
  },
  {
   "cell_type": "code",
   "execution_count": 98,
   "id": "14489f86",
   "metadata": {},
   "outputs": [
    {
     "data": {
      "text/plain": [
       "True"
      ]
     },
     "execution_count": 98,
     "metadata": {},
     "output_type": "execute_result"
    }
   ],
   "source": [
    "golden_df_row_4['parent_scale_id'] in nodo[\"children\"]"
   ]
  },
  {
   "cell_type": "code",
   "execution_count": 100,
   "id": "0c1ca712",
   "metadata": {},
   "outputs": [
    {
     "data": {
      "text/plain": [
       "{'scale_name': '외향', 'children': {}}"
      ]
     },
     "execution_count": 100,
     "metadata": {},
     "output_type": "execute_result"
    }
   ],
   "source": [
    "nodo[\"children\"][golden_df_row_4['parent_scale_id']]"
   ]
  },
  {
   "cell_type": "code",
   "execution_count": 220,
   "id": "c4608e24",
   "metadata": {},
   "outputs": [],
   "source": [
    "def build_flat_cache(scale_tree, test_id, path=None):\n",
    "    cache = {}\n",
    "    if path is None:\n",
    "        path = []\n",
    "\n",
    "    for code, node in scale_tree.items():\n",
    "        current_path = path + [code]   # 경로 누적\n",
    "        cache[(test_id, code)] = {\n",
    "            \"node\": node,              # 노드 참조 (scale_name, children 등)\n",
    "            \"path\": current_path       # 루트부터 현재까지 경로\n",
    "        }\n",
    "        # 재귀적으로 children 탐색\n",
    "        if node[\"children\"]:\n",
    "            child_cache = build_flat_cache(node[\"children\"], test_id, current_path)\n",
    "            cache.update(child_cache)\n",
    "    return cache"
   ]
  },
  {
   "cell_type": "code",
   "execution_count": 221,
   "id": "7bfe5219",
   "metadata": {},
   "outputs": [
    {
     "data": {
      "text/plain": [
       "{'ADHD_CO_SG': {'test_name': '주의력 검사',\n",
       "  'essential_info': '{age}',\n",
       "  'version': 'V 1.0',\n",
       "  'scale_tree': {'A': {'scale_name': '주의력', 'children': {}},\n",
       "   'B': {'scale_name': '과잉행동', 'children': {}}}},\n",
       " 'GOLDEN_CO_SG': {'test_name': '골든 성격유형 검사',\n",
       "  'essential_info': '{sex, age}',\n",
       "  'version': 'V 1.0',\n",
       "  'scale_tree': {'TOTAL': {'scale_name': '종합',\n",
       "    'children': {'E': {'scale_name': '외향',\n",
       "      'children': {'a01': {'scale_name': '말이 많은', 'children': {}},\n",
       "       'a02': {'scale_name': '친밀한', 'children': {}}}},\n",
       "     'T': {'scale_name': '사고',\n",
       "      'children': {'t01': {'scale_name': '논리적', 'children': {}},\n",
       "       't02': {'scale_name': '분석적', 'children': {}}}}}}}},\n",
       " 'IESS_CO_SG': {'test_name': '통합 스트레스 검사',\n",
       "  'essential_info': '{age, position, role}',\n",
       "  'version': 'V 1.0',\n",
       "  'scale_tree': {'A': {'scale_name': '비관주의', 'children': {}},\n",
       "   'B': {'scale_name': '수면문제', 'children': {}},\n",
       "   'C': {'scale_name': '우울', 'children': {}}}},\n",
       " 'OHSS_CO_SG': {'test_name': '직무스트레스 검사',\n",
       "  'essential_info': '{sex, age, position, role}',\n",
       "  'version': 'V 1.0',\n",
       "  'scale_tree': {'TOTAL': {'scale_name': '종합',\n",
       "    'children': {'A': {'scale_name': '스트레스',\n",
       "      'children': {'A01': {'scale_name': '직무부하', 'children': {}},\n",
       "       'A02': {'scale_name': '업무갈등', 'children': {}}}}}}}}}"
      ]
     },
     "execution_count": 221,
     "metadata": {},
     "output_type": "execute_result"
    }
   ],
   "source": [
    "tree_dict = {'ADHD_CO_SG': {'test_name': '주의력 검사', 'essential_info': '{age}', 'version': 'V 1.0', 'scale_tree': {'A': {'scale_name': '주의력', 'children': {}}, 'B': {'scale_name': '과잉행동', 'children': {}}}}, 'GOLDEN_CO_SG': {'test_name': '골든 성격유형 검사', 'essential_info': '{sex, age}', 'version': 'V 1.0', 'scale_tree': {'TOTAL': {'scale_name': '종합', 'children': {'E': {'scale_name': '외향', 'children': {'a01': {'scale_name': '말이 많은', 'children': {}}, 'a02': {'scale_name': '친밀한', 'children': {}}}}, 'T': {'scale_name': '사고', 'children': {'t01': {'scale_name': '논리적', 'children': {}}, 't02': {'scale_name': '분석적', 'children': {}}}}}}}}, 'IESS_CO_SG': {'test_name': '통합 스트레스 검사', 'essential_info': '{age, position, role}', 'version': 'V 1.0', 'scale_tree': {'A': {'scale_name': '비관주의', 'children': {}}, 'B': {'scale_name': '수면문제', 'children': {}}, 'C': {'scale_name': '우울', 'children': {}}}}, 'OHSS_CO_SG': {'test_name': '직무스트레스 검사', 'essential_info': '{sex, age, position, role}', 'version': 'V 1.0', 'scale_tree': {'TOTAL': {'scale_name': '종합', 'children': {'A': {'scale_name': '스트레스', 'children': {'A01': {'scale_name': '직무부하', 'children': {}}, 'A02': {'scale_name': '업무갈등', 'children': {}}}}}}}}}\n",
    "tree_dict"
   ]
  },
  {
   "cell_type": "code",
   "execution_count": 222,
   "id": "b507841a",
   "metadata": {},
   "outputs": [
    {
     "data": {
      "text/plain": [
       "{('GOLDEN_CO_SG',\n",
       "  'TOTAL'): {'node': {'scale_name': '종합',\n",
       "   'children': {'E': {'scale_name': '외향',\n",
       "     'children': {'a01': {'scale_name': '말이 많은', 'children': {}},\n",
       "      'a02': {'scale_name': '친밀한', 'children': {}}}},\n",
       "    'T': {'scale_name': '사고',\n",
       "     'children': {'t01': {'scale_name': '논리적', 'children': {}},\n",
       "      't02': {'scale_name': '분석적', 'children': {}}}}}}, 'path': ['TOTAL']},\n",
       " ('GOLDEN_CO_SG',\n",
       "  'E'): {'node': {'scale_name': '외향',\n",
       "   'children': {'a01': {'scale_name': '말이 많은', 'children': {}},\n",
       "    'a02': {'scale_name': '친밀한', 'children': {}}}}, 'path': ['TOTAL', 'E']},\n",
       " ('GOLDEN_CO_SG', 'a01'): {'node': {'scale_name': '말이 많은', 'children': {}},\n",
       "  'path': ['TOTAL', 'E', 'a01']},\n",
       " ('GOLDEN_CO_SG', 'a02'): {'node': {'scale_name': '친밀한', 'children': {}},\n",
       "  'path': ['TOTAL', 'E', 'a02']},\n",
       " ('GOLDEN_CO_SG',\n",
       "  'T'): {'node': {'scale_name': '사고',\n",
       "   'children': {'t01': {'scale_name': '논리적', 'children': {}},\n",
       "    't02': {'scale_name': '분석적', 'children': {}}}}, 'path': ['TOTAL', 'T']},\n",
       " ('GOLDEN_CO_SG', 't01'): {'node': {'scale_name': '논리적', 'children': {}},\n",
       "  'path': ['TOTAL', 'T', 't01']},\n",
       " ('GOLDEN_CO_SG', 't02'): {'node': {'scale_name': '분석적', 'children': {}},\n",
       "  'path': ['TOTAL', 'T', 't02']}}"
      ]
     },
     "execution_count": 222,
     "metadata": {},
     "output_type": "execute_result"
    }
   ],
   "source": [
    "flat_cache = build_flat_cache(tree_dict['GOLDEN_CO_SG']['scale_tree'], 'GOLDEN_CO_SG')\n",
    "flat_cache"
   ]
  },
  {
   "cell_type": "code",
   "execution_count": null,
   "id": "90742b5d",
   "metadata": {},
   "outputs": [
    {
     "data": {
      "text/plain": [
       "{'TOTAL': {'scale_name': '종합',\n",
       "  'children': {'E': {'scale_name': '외향',\n",
       "    'children': {'a01': {'scale_name': '말이 많은', 'children': {}},\n",
       "     'a02': {'scale_name': '친밀한', 'children': {}}}},\n",
       "   'T': {'scale_name': '사고',\n",
       "    'children': {'t01': {'scale_name': '논리적', 'children': {}},\n",
       "     't02': {'scale_name': '분석적', 'children': {}}}}}}}"
      ]
     },
     "execution_count": 223,
     "metadata": {},
     "output_type": "execute_result"
    }
   ],
   "source": [
    "# 이 데이터 원본에 선택값을 추가하려고 함\n",
    "tree_dict['GOLDEN_CO_SG']['scale_tree']"
   ]
  },
  {
   "cell_type": "code",
   "execution_count": 224,
   "id": "8364b2f0",
   "metadata": {},
   "outputs": [
    {
     "data": {
      "text/plain": [
       "['TOTAL', 'E', 'a01']"
      ]
     },
     "execution_count": 224,
     "metadata": {},
     "output_type": "execute_result"
    }
   ],
   "source": [
    "# flat_cache의 path를 활용해서\n",
    "flat_cache[('GOLDEN_CO_SG', 'a01')]['path']"
   ]
  },
  {
   "cell_type": "code",
   "execution_count": 231,
   "id": "53100d00",
   "metadata": {},
   "outputs": [
    {
     "name": "stdout",
     "output_type": "stream",
     "text": [
      "TOTAL\n",
      "{'scale_name': '종합', 'children': {'E': {'scale_name': '외향', 'children': {'a01': {'scale_name': '말이 많은', 'children': {}}, 'a02': {'scale_name': '친밀한', 'children': {}}}}, 'T': {'scale_name': '사고', 'children': {'t01': {'scale_name': '논리적', 'children': {}}, 't02': {'scale_name': '분석적', 'children': {}}}}}}\n",
      "E\n",
      "{'scale_name': '외향', 'children': {'a01': {'scale_name': '말이 많은', 'children': {}}, 'a02': {'scale_name': '친밀한', 'children': {}}}}\n",
      "a01\n",
      "{'scale_name': '말이 많은', 'children': {}}\n",
      "{'scale_name': '말이 많은', 'children': {}}\n"
     ]
    }
   ],
   "source": [
    "target_tree_dict = tree_dict['GOLDEN_CO_SG']['scale_tree']\n",
    "for scale_code in flat_cache[('GOLDEN_CO_SG', 'a01')]['path']:\n",
    "    print(scale_code)\n",
    "    if scale_code in target_tree_dict:\n",
    "        target_tree_dict = target_tree_dict[scale_code]\n",
    "    elif 'children' in target_tree_dict:\n",
    "        target_tree_dict = target_tree_dict['children'][scale_code]\n",
    "    else:\n",
    "        raise KeyError(f\"Scale code {scale_code} not found in the tree.\")\n",
    "    # 중간 상태 확인\n",
    "    print(target_tree_dict)\n",
    "\n",
    "# 최종 상태 확인\n",
    "print(target_tree_dict)"
   ]
  },
  {
   "cell_type": "code",
   "execution_count": 232,
   "id": "b38c795a",
   "metadata": {},
   "outputs": [
    {
     "name": "stdout",
     "output_type": "stream",
     "text": [
      "{'scale_name': '말이 많은', 'children': {}, 'selected': True}\n",
      "{'TOTAL': {'scale_name': '종합', 'children': {'E': {'scale_name': '외향', 'children': {'a01': {'scale_name': '말이 많은', 'children': {}, 'selected': True}, 'a02': {'scale_name': '친밀한', 'children': {}}}}, 'T': {'scale_name': '사고', 'children': {'t01': {'scale_name': '논리적', 'children': {}}, 't02': {'scale_name': '분석적', 'children': {}}}}}}}\n"
     ]
    }
   ],
   "source": [
    "target_tree_dict['selected'] = True\n",
    "print(target_tree_dict)\n",
    "print(tree_dict['GOLDEN_CO_SG']['scale_tree'])"
   ]
  },
  {
   "cell_type": "code",
   "execution_count": null,
   "id": "63db2304",
   "metadata": {},
   "outputs": [],
   "source": []
  }
 ],
 "metadata": {
  "kernelspec": {
   "display_name": "base",
   "language": "python",
   "name": "python3"
  },
  "language_info": {
   "codemirror_mode": {
    "name": "ipython",
    "version": 3
   },
   "file_extension": ".py",
   "mimetype": "text/x-python",
   "name": "python",
   "nbconvert_exporter": "python",
   "pygments_lexer": "ipython3",
   "version": "3.12.7"
  }
 },
 "nbformat": 4,
 "nbformat_minor": 5
}
